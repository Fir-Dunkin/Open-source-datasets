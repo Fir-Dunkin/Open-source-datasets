{
 "cells": [
  {
   "cell_type": "markdown",
   "id": "30272cce-d5d0-47bf-bb71-2b5ffb180104",
   "metadata": {},
   "source": [
    "## Import"
   ]
  },
  {
   "cell_type": "code",
   "execution_count": 1,
   "id": "2178652a-08d3-48ec-8fc1-c34d1a68a9c8",
   "metadata": {},
   "outputs": [
    {
     "name": "stdout",
     "output_type": "stream",
     "text": [
      "2.5.1\n"
     ]
    }
   ],
   "source": [
    "import torch\n",
    "from Models import MgNet, MSACNN, MgFF, Linear\n",
    "from torchinfo import summary\n",
    "print(torch.__version__)\n",
    "\n",
    "category = 25 # for Damage dataset and the category of Multiple dataset is 16"
   ]
  },
  {
   "cell_type": "code",
   "execution_count": 2,
   "id": "a173be72-0c8d-4678-90c0-9f2878c33e36",
   "metadata": {},
   "outputs": [],
   "source": [
    "class Get_Model(torch.nn.Module):\n",
    "    def __init__(self, categories, model, dims = 64 ):\n",
    "        super().__init__()\n",
    "\n",
    "        if model == 'MgNet':\n",
    "            self.backbone =  MgNet( dims )\n",
    "        if model == 'MSACNN':\n",
    "            self.backbone =  MSACNN( dims )\n",
    "            \n",
    "        self.predictor = Linear( dims, categories, zeros_init = True )\n",
    "        \n",
    "    def forward(self, x):\n",
    "        \n",
    "        z = self.backbone(x)\n",
    "        prediction = self.predictor( z )\n",
    "        \n",
    "        return prediction"
   ]
  },
  {
   "cell_type": "markdown",
   "id": "3c7d05a5-f454-426d-92ab-1b58097acacb",
   "metadata": {},
   "source": [
    "## MgNet"
   ]
  },
  {
   "cell_type": "code",
   "execution_count": 3,
   "id": "3d32275c-4c07-46cd-a200-08348de820af",
   "metadata": {},
   "outputs": [
    {
     "name": "stdout",
     "output_type": "stream",
     "text": [
      "===========================================================================================================================================================\n",
      "Layer (type:depth-idx)                                  Input Shape               Output Shape              Param #                   Mult-Adds\n",
      "===========================================================================================================================================================\n",
      "Get_Model                                               [1, 1, 2048]              [1, 25]                   --                        --\n",
      "├─MgNet: 1-1                                            [1, 1, 2048]              [1, 64]                   2                         --\n",
      "│    └─Sequential: 2-1                                  [1, 1, 2048]              [1, 128, 8]               --                        --\n",
      "│    │    └─MgFF: 3-1                                   [1, 1, 2048]              [1, 4, 512]               218                       131,112\n",
      "│    │    └─MgFF: 3-2                                   [1, 4, 512]               [1, 16, 128]              2,582                     475,296\n",
      "│    │    └─MgFF: 3-3                                   [1, 16, 128]              [1, 64, 32]               38,678                    1,852,032\n",
      "│    │    └─MgFF: 3-4                                   [1, 64, 32]               [1, 128, 8]               222,742                   3,024,128\n",
      "│    └─Linear: 2-2                                      [1, 128]                  [1, 64]                   --                        --\n",
      "│    │    └─Linear: 3-5                                 [1, 128]                  [1, 64]                   8,256                     8,256\n",
      "├─Linear: 1-2                                           [1, 64]                   [1, 25]                   --                        --\n",
      "│    └─Linear: 2-3                                      [1, 64]                   [1, 25]                   1,625                     1,625\n",
      "===========================================================================================================================================================\n",
      "Total params: 274,103\n",
      "Trainable params: 274,103\n",
      "Non-trainable params: 0\n",
      "Total mult-adds (Units.MEGABYTES): 5.49\n",
      "===========================================================================================================================================================\n",
      "Input size (MB): 0.01\n",
      "Forward/backward pass size (MB): 1.43\n",
      "Params size (MB): 1.10\n",
      "Estimated Total Size (MB): 2.54\n",
      "===========================================================================================================================================================\n"
     ]
    }
   ],
   "source": [
    "input_size = (1, 1, 2048 )\n",
    "net = Get_Model( category, 'MgNet' )\n",
    "model_info = summary(net, input_size=input_size, verbose=0, col_names=[\"input_size\", \"output_size\", \"num_params\", \"mult_adds\"])\n",
    "print(model_info)"
   ]
  },
  {
   "cell_type": "code",
   "execution_count": 4,
   "id": "ba1d8668-1bde-4889-8319-7ab766a2d155",
   "metadata": {},
   "outputs": [
    {
     "name": "stdout",
     "output_type": "stream",
     "text": [
      "============================================================================================================================================\n",
      "Layer (type:depth-idx)                   Input Shape               Output Shape              Param #                   Mult-Adds\n",
      "============================================================================================================================================\n",
      "MgFF                                     [1, 4, 512]               [1, 16, 128]              --                        --\n",
      "├─Sequential: 1-1                        [1, 4, 512]               [1, 16, 128]              --                        --\n",
      "│    └─Conv1D: 2-1                       [1, 4, 512]               [1, 16, 512]              --                        --\n",
      "│    │    └─Conv1d: 3-1                  [1, 4, 512]               [1, 16, 512]              80                        40,960\n",
      "│    │    └─BatchNorm1d: 3-2             [1, 16, 512]              [1, 16, 512]              32                        32\n",
      "│    │    └─ACON: 3-3                    [1, 16, 512]              [1, 16, 512]              2                         --\n",
      "│    └─MaxPool1d: 2-2                    [1, 16, 512]              [1, 16, 128]              --                        --\n",
      "├─ModuleList: 1-2                        --                        --                        --                        --\n",
      "│    └─Sequential: 2-3                   [1, 4, 512]               [1, 4, 128]               --                        --\n",
      "│    │    └─Conv1D: 3-4                  [1, 4, 512]               [1, 4, 256]               94                        21,512\n",
      "│    │    └─Conv1D: 3-5                  [1, 4, 256]               [1, 4, 128]               94                        10,760\n",
      "│    └─Sequential: 2-4                   [1, 4, 512]               [1, 4, 128]               --                        --\n",
      "│    │    └─Conv1D: 3-6                  [1, 4, 512]               [1, 4, 256]               158                       37,896\n",
      "│    │    └─Conv1D: 3-7                  [1, 4, 256]               [1, 4, 128]               158                       18,952\n",
      "│    └─Sequential: 2-5                   [1, 4, 512]               [1, 4, 128]               --                        --\n",
      "│    │    └─Conv1D: 3-8                  [1, 4, 512]               [1, 4, 256]               286                       70,664\n",
      "│    │    └─Conv1D: 3-9                  [1, 4, 256]               [1, 4, 128]               286                       35,336\n",
      "│    └─Sequential: 2-6                   [1, 4, 512]               [1, 4, 128]               --                        --\n",
      "│    │    └─Conv1D: 3-10                 [1, 4, 512]               [1, 4, 256]               542                       136,200\n",
      "│    │    └─Conv1D: 3-11                 [1, 4, 256]               [1, 4, 128]               542                       68,104\n",
      "├─Conv1D: 1-3                            [1, 16, 128]              [1, 16, 128]              --                        --\n",
      "│    └─Conv1d: 2-7                       [1, 16, 128]              [1, 16, 128]              272                       34,816\n",
      "│    └─BatchNorm1d: 2-8                  [1, 16, 128]              [1, 16, 128]              32                        32\n",
      "│    └─ACON: 2-9                         [1, 16, 128]              [1, 16, 128]              2                         --\n",
      "├─Add: 1-4                               [1, 16, 128]              [1, 16, 128]              2                         32\n",
      "============================================================================================================================================\n",
      "Total params: 2,582\n",
      "Trainable params: 2,582\n",
      "Non-trainable params: 0\n",
      "Total mult-adds (Units.MEGABYTES): 0.48\n",
      "============================================================================================================================================\n",
      "Input size (MB): 0.01\n",
      "Forward/backward pass size (MB): 0.41\n",
      "Params size (MB): 0.01\n",
      "Estimated Total Size (MB): 0.43\n",
      "============================================================================================================================================\n"
     ]
    }
   ],
   "source": [
    "# MgFF: 3-2     \n",
    "input_size = (1, 4, 512 )\n",
    "net = MgFF( 4, 16 )\n",
    "model_info = summary(net, input_size=input_size, verbose=0, col_names=[\"input_size\", \"output_size\", \"num_params\", \"mult_adds\"])\n",
    "print(model_info)"
   ]
  },
  {
   "cell_type": "markdown",
   "id": "30f0cfd6-91f0-430c-9219-def4bd037189",
   "metadata": {},
   "source": [
    "## MSACNN"
   ]
  },
  {
   "cell_type": "code",
   "execution_count": 5,
   "id": "f85f3ffc-cfd6-491f-9997-fa7c6ae07011",
   "metadata": {},
   "outputs": [
    {
     "name": "stdout",
     "output_type": "stream",
     "text": [
      "============================================================================================================================================\n",
      "Layer (type:depth-idx)                   Input Shape               Output Shape              Param #                   Mult-Adds\n",
      "============================================================================================================================================\n",
      "Get_Model                                [1, 1, 2048]              [1, 25]                   --                        --\n",
      "├─MSACNN: 1-1                            [1, 1, 2048]              [1, 64]                   --                        --\n",
      "│    └─MultiScaleConv: 2-1               [1, 1, 32, 64]            [1, 96, 32, 64]           --                        --\n",
      "│    │    └─ModuleList: 3-1              --                        --                        2,752                     --\n",
      "│    └─ChannelAttention: 2-2             [1, 96, 32, 64]           [1, 96, 1, 1]             --                        --\n",
      "│    │    └─AdaptiveAvgPool2d: 3-2       [1, 96, 32, 64]           [1, 96, 1, 1]             --                        --\n",
      "│    │    └─Sequential: 3-3              [1, 96]                   [1, 96]                   1,152                     1,152\n",
      "│    │    └─AdaptiveMaxPool2d: 3-4       [1, 96, 32, 64]           [1, 96, 1, 1]             --                        --\n",
      "│    │    └─Sequential: 3-5              [1, 96]                   [1, 96]                   (recursive)               1,152\n",
      "│    └─MaxPool2d: 2-3                    [1, 96, 32, 64]           [1, 96, 16, 32]           --                        --\n",
      "│    └─MultiScaleConv: 2-4               [1, 96, 16, 32]           [1, 192, 16, 32]          --                        --\n",
      "│    │    └─ModuleList: 3-6              --                        --                        510,144                   --\n",
      "│    └─ChannelAttention: 2-5             [1, 192, 16, 32]          [1, 192, 1, 1]            --                        --\n",
      "│    │    └─AdaptiveAvgPool2d: 3-7       [1, 192, 16, 32]          [1, 192, 1, 1]            --                        --\n",
      "│    │    └─Sequential: 3-8              [1, 192]                  [1, 192]                  4,608                     4,608\n",
      "│    │    └─AdaptiveMaxPool2d: 3-9       [1, 192, 16, 32]          [1, 192, 1, 1]            --                        --\n",
      "│    │    └─Sequential: 3-10             [1, 192]                  [1, 192]                  (recursive)               4,608\n",
      "│    └─MaxPool2d: 2-6                    [1, 192, 16, 32]          [1, 192, 8, 16]           --                        --\n",
      "│    └─Sequential: 2-7                   [1, 192, 8, 16]           [1, 12288]                --                        --\n",
      "│    │    └─AdaptiveAvgPool2d: 3-11      [1, 192, 8, 16]           [1, 192, 8, 8]            --                        --\n",
      "│    │    └─Flatten: 3-12                [1, 192, 8, 8]            [1, 12288]                --                        --\n",
      "│    └─Linear: 2-8                       [1, 12288]                [1, 64]                   786,496                   786,496\n",
      "├─Linear: 1-2                            [1, 64]                   [1, 25]                   --                        --\n",
      "│    └─Linear: 2-9                       [1, 64]                   [1, 25]                   1,625                     1,625\n",
      "============================================================================================================================================\n",
      "Total params: 1,306,777\n",
      "Trainable params: 1,306,777\n",
      "Non-trainable params: 0\n",
      "Total mult-adds (Units.MEGABYTES): 267.63\n",
      "============================================================================================================================================\n",
      "Input size (MB): 0.01\n",
      "Forward/backward pass size (MB): 2.36\n",
      "Params size (MB): 5.23\n",
      "Estimated Total Size (MB): 7.60\n",
      "============================================================================================================================================\n"
     ]
    }
   ],
   "source": [
    "input_size = (1, 1, 2048 )\n",
    "net = Get_Model( category, 'MSACNN' )\n",
    "model_info = summary(net, input_size=input_size, verbose=0, col_names=[\"input_size\", \"output_size\", \"num_params\", \"mult_adds\"])\n",
    "print(model_info)"
   ]
  }
 ],
 "metadata": {
  "kernelspec": {
   "display_name": "Python 3 (ipykernel)",
   "language": "python",
   "name": "python3"
  },
  "language_info": {
   "codemirror_mode": {
    "name": "ipython",
    "version": 3
   },
   "file_extension": ".py",
   "mimetype": "text/x-python",
   "name": "python",
   "nbconvert_exporter": "python",
   "pygments_lexer": "ipython3",
   "version": "3.12.3"
  }
 },
 "nbformat": 4,
 "nbformat_minor": 5
}
